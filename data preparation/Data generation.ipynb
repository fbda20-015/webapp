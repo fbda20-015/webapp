{
 "cells": [
  {
   "cell_type": "code",
   "execution_count": 1,
   "id": "7f9cbc70-3391-4ffa-a644-2f0cee46d49e",
   "metadata": {},
   "outputs": [],
   "source": [
    "import pandas as pd\n",
    "import numpy as np\n",
    "import random\n",
    "from faker import Faker\n",
    "from datetime import datetime, timedelta\n",
    "\n",
    "# Set random seed for reproducibility\n",
    "np.random.seed(0)\n",
    "random.seed(0)\n",
    "\n",
    "# Initialize Faker to generate fake data\n",
    "faker = Faker()\n",
    "\n",
    "# Number of rows for the dataset\n",
    "num_rows = 2000\n",
    "\n",
    "# Define countries for each continent with their respective latitude and longitude\n",
    "countries_by_continent = {\n",
    "    'Africa': {'Algeria': (28.0339, 1.6596), 'Nigeria': (9.0820, 8.6753), 'Egypt': (26.8206, 30.8025), 'Kenya': (-0.0236, 37.9062), 'South Africa': (-30.5595, 22.9375), 'Botswana': (-22.3285, 24.6849), 'Ghana': (7.9465, -1.0232), 'Tanzania': (-6.3690, 34.8888), 'Morocco': (31.7917, 7.0926), 'Zimbabwe': (-19.0154, 29.1549)},\n",
    "    'Asia': {'China': (35.8617, 104.1954), 'India': (20.5937, 78.9629), 'Japan': (36.2048, 138.2529), 'Indonesia': (-0.7893, 113.9213), 'Pakistan': (30.3753, 69.3451), 'Bangladesh': (23.6850, 90.3563), 'Philippines': (12.8797, 121.7740), 'Vietnam': (14.0583, 108.2772), 'Iran': (32.4279, 53.6880), 'Turkey': (38.9637, 35.2433)},\n",
    "    'Europe': {'France': (46.6034, 1.8883), 'Germany': (51.1657, 10.4515), 'United Kingdom': (55.3781, -3.4360), 'Italy': (41.8719, 12.5674), 'Spain': (40.4637, -3.7492), 'Ukraine': (48.3794, 31.1656), 'Poland': (51.9194, 19.1451), 'Romania': (45.9432, 24.9668), 'Netherlands': (52.1326, 5.2913), 'Belgium': (50.5039, 4.4699)},\n",
    "    'North America': {'United States': (37.0902, -95.7129), 'Canada': (56.1304, -106.3468), 'Mexico': (23.6345, -102.5528), 'Cuba': (21.5218, -77.7812), 'Jamaica': (18.1096, -77.2975), 'Honduras': (15.2000, -86.2419), 'Costa Rica': (9.7489, -83.7534), 'Panama': (8.5380, -80.7821), 'Dominican Republic': (18.7357, -70.1627), 'Guatemala': (15.7835, -90.2308)},\n",
    "    'South America': {'Brazil': (-14.2350, -51.9253), 'Argentina': (-38.4161, -63.6167), 'Colombia': (4.5709, -74.2973), 'Peru': (-9.1900, -75.0152), 'Venezuela': (6.4238, -66.5897), 'Chile': (-35.6751, -71.5430), 'Ecuador': (-1.8312, -78.1834), 'Bolivia': (-16.2902, -63.5887), 'Paraguay': (-23.4425, -58.4438), 'Uruguay': (-32.5228, -55.7658)}\n",
    "}\n",
    "\n",
    "# Define specific pages available on a sporting website\n",
    "specific_pages = ['/home', '/about', '/events', '/teams', '/players', '/news', '/fixtures', '/tickets', '/shop', '/gallery', '/fanzone', '/contact']\n",
    "\n",
    "# Generate synthetic data for each column\n",
    "data = {\n",
    "    'Date': [faker.date_between(start_date='-6M', end_date='today').strftime('%Y-%m-%d') for _ in range(num_rows)], \n",
    "    'Time': [faker.date_time_this_year().strftime('%H:%M:%S') for _ in range(num_rows)],\n",
    "    'IP Address': [faker.ipv4() for _ in range(num_rows)],\n",
    "    'HTTP Method': [random.choice(['GET', 'POST', 'PUT']) for _ in range(num_rows)],\n",
    "    'Request': [random.choice(specific_pages) for _ in range(num_rows)],\n",
    "    'Status Code': [random.choice([200, 304, 404]) for _ in range(num_rows)],\n",
    "    'Gender': [random.choice(['Male', 'Female']) for _ in range(num_rows)],\n",
    "    'Sport Viewed': [random.choice(['Football', 'Basketball', 'Tennis', 'Netball', 'Swimming', 'Baseball', 'Boxing']) for _ in range(num_rows)],\n",
    "    'Ad Displayed': [random.choice(['Yes', 'No']) for _ in range(num_rows)],\n",
    "    'Rating': [random.randint(1, 5) for _ in range(num_rows)],\n",
    "    'Feedback': [random.choice(['Good', 'Excellent', 'Poor', 'Average']) for _ in range(num_rows)],\n",
    "    'Session Duration (seconds)': [random.randint(600, 11400) for _ in range(num_rows)],\n",
    "    'Continent': [faker.random_element(elements=('Africa', 'Asia', 'Europe', 'North America', 'South America')) for _ in range(num_rows)]\n",
    "}\n",
    "\n",
    "# Assign countries based on the generated continent\n",
    "data['Country'] = [random.choice(list(countries_by_continent[continent].keys())) for continent in data['Continent']]\n",
    "\n",
    "# Add latitude and longitude based on the assigned country\n",
    "data['Latitude'] = [countries_by_continent[continent][country][0] for continent, country in zip(data['Continent'], data['Country'])]\n",
    "data['Longitude'] = [countries_by_continent[continent][country][1] for continent, country in zip(data['Continent'], data['Country'])]\n",
    "\n",
    "# Create DataFrame\n",
    "df = pd.DataFrame(data)\n",
    "\n",
    "# Save data to CSV file\n",
    "df.to_csv('funolympic_data.csv', index=False)\n"
   ]
  },
  {
   "cell_type": "code",
   "execution_count": null,
   "id": "0ce6203f-9997-4714-bf42-5fbae07ecc79",
   "metadata": {},
   "outputs": [],
   "source": []
  }
 ],
 "metadata": {
  "kernelspec": {
   "display_name": "Python 3 (ipykernel)",
   "language": "python",
   "name": "python3"
  },
  "language_info": {
   "codemirror_mode": {
    "name": "ipython",
    "version": 3
   },
   "file_extension": ".py",
   "mimetype": "text/x-python",
   "name": "python",
   "nbconvert_exporter": "python",
   "pygments_lexer": "ipython3",
   "version": "3.11.7"
  }
 },
 "nbformat": 4,
 "nbformat_minor": 5
}
