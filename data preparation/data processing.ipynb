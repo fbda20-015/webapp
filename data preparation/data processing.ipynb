{
 "cells": [
  {
   "cell_type": "code",
   "execution_count": 1,
   "id": "8ac74944-c104-4b07-af2a-40ce8d52b185",
   "metadata": {},
   "outputs": [],
   "source": [
    "import pandas as pd\n",
    "from scipy.stats import zscore"
   ]
  },
  {
   "cell_type": "code",
   "execution_count": 2,
   "id": "a8d616eb-e809-4067-bc5a-2d5dfddeef1f",
   "metadata": {},
   "outputs": [],
   "source": [
    "# Load the simulated log data CSV file into a DataFrame\n",
    "log_data_df = pd.read_csv(\"funolympic_data.csv\")"
   ]
  },
  {
   "cell_type": "code",
   "execution_count": 3,
   "id": "8f2813e4-ad1e-4c2b-ab7b-094c5ce0dd04",
   "metadata": {},
   "outputs": [
    {
     "data": {
      "text/plain": [
       "<bound method NDFrame.head of           Time        Date      IP Address Sport Viewed  Country Continent  \\\n",
       "0     09:43:00  2022-01-16    171.99.21.71     Football  Nigeria    Africa   \n",
       "1     14:07:00  2022-01-01  168.142.49.184   Basketball  Nigeria    Africa   \n",
       "2     15:34:00  2022-01-07    50.161.76.72       Tennis  Nigeria    Africa   \n",
       "3     00:46:00  2022-01-19     123.49.9.77     Swimming  Nigeria    Africa   \n",
       "4     19:35:00  2022-01-20   4.104.251.237      Netball  Nigeria    Africa   \n",
       "...        ...         ...             ...          ...      ...       ...   \n",
       "6475  03:40:00  2022-12-13    161.97.22.66     Football     Fiji   Oceania   \n",
       "6476  13:25:00  2022-12-07  117.99.115.127   Basketball     Fiji   Oceania   \n",
       "6477  22:15:00  2022-12-17   197.46.59.203       Tennis     Fiji   Oceania   \n",
       "6478  09:54:00  2022-12-01     72.45.21.83     Swimming     Fiji   Oceania   \n",
       "6479  22:48:00  2022-12-15   85.126.80.159      Netball     Fiji   Oceania   \n",
       "\n",
       "           Gender  Age  Season  Session Duration  Engagement Time  \\\n",
       "0            Male   33  Summer              9601             9495   \n",
       "1            Male   42  Summer              1345              846   \n",
       "2            Male   52  Summer              3725             1484   \n",
       "3            Male   24  Summer             10008             4033   \n",
       "4            Male   32  Summer              7812             5837   \n",
       "...           ...  ...     ...               ...              ...   \n",
       "6475  Transgender   35  Winter              2371             1772   \n",
       "6476  Transgender   52  Winter             11060             7235   \n",
       "6477  Transgender   58  Winter              9454             2444   \n",
       "6478  Transgender   20  Winter              9094             6123   \n",
       "6479  Transgender   55  Winter              1098              358   \n",
       "\n",
       "              Request  Rating  \\\n",
       "0          wp-content       5   \n",
       "1              search       1   \n",
       "2          posts/blog       5   \n",
       "3       posts/explore       3   \n",
       "4                list       5   \n",
       "...               ...     ...   \n",
       "6475              tag       1   \n",
       "6476      posts/posts       3   \n",
       "6477  categories/main       5   \n",
       "6478              tag       1   \n",
       "6479    main/category       4   \n",
       "\n",
       "                                               Feedback     Month  \n",
       "0              Pretty less grow down mind end strategy.   January  \n",
       "1                       Goal system pick pull fish car.   January  \n",
       "2                      Task attention identify account.   January  \n",
       "3                                Car ago decade family.   January  \n",
       "4                  Huge performance every organization.   January  \n",
       "...                                                 ...       ...  \n",
       "6475                              Response speak night.  December  \n",
       "6476                          Dark box through citizen.  December  \n",
       "6477     Fire color probably allow current his produce.  December  \n",
       "6478  Weight voice wear technology doctor until system.  December  \n",
       "6479       Source fund little age night out line where.  December  \n",
       "\n",
       "[6480 rows x 15 columns]>"
      ]
     },
     "execution_count": 3,
     "metadata": {},
     "output_type": "execute_result"
    }
   ],
   "source": [
    "log_data_df.head"
   ]
  },
  {
   "cell_type": "code",
   "execution_count": 4,
   "id": "583dfd9f-2c14-496c-b7a8-1d25e4e47443",
   "metadata": {},
   "outputs": [
    {
     "name": "stdout",
     "output_type": "stream",
     "text": [
      "\n",
      "Data types of each column:\n",
      "Time                object\n",
      "Date                object\n",
      "IP Address          object\n",
      "Sport Viewed        object\n",
      "Country             object\n",
      "Continent           object\n",
      "Gender              object\n",
      "Age                  int64\n",
      "Season              object\n",
      "Session Duration     int64\n",
      "Engagement Time      int64\n",
      "Request             object\n",
      "Rating               int64\n",
      "Feedback            object\n",
      "Month               object\n",
      "dtype: object\n"
     ]
    }
   ],
   "source": [
    "# Check data types of each column\n",
    "data_types = log_data_df.dtypes\n",
    "print(\"\\nData types of each column:\")\n",
    "print(data_types)"
   ]
  },
  {
   "cell_type": "code",
   "execution_count": 5,
   "id": "07b9c154-bed3-49eb-a744-004a54ef8a4b",
   "metadata": {},
   "outputs": [
    {
     "name": "stdout",
     "output_type": "stream",
     "text": [
      "Missing values in the dataset:\n",
      "Time                0\n",
      "Date                0\n",
      "IP Address          0\n",
      "Sport Viewed        0\n",
      "Country             0\n",
      "Continent           0\n",
      "Gender              0\n",
      "Age                 0\n",
      "Season              0\n",
      "Session Duration    0\n",
      "Engagement Time     0\n",
      "Request             0\n",
      "Rating              0\n",
      "Feedback            0\n",
      "Month               0\n",
      "dtype: int64\n"
     ]
    }
   ],
   "source": [
    "# Assess data quality and completeness\n",
    "# Check for missing values\n",
    "missing_values = log_data_df.isnull().sum()\n",
    "print(\"Missing values in the dataset:\")\n",
    "print(missing_values)\n"
   ]
  },
  {
   "cell_type": "code",
   "execution_count": 6,
   "id": "6518206f-3b70-42e7-9e80-954b6ad4e198",
   "metadata": {},
   "outputs": [],
   "source": [
    "# Remove duplicates\n",
    "log_data_df = log_data_df.drop_duplicates()"
   ]
  },
  {
   "cell_type": "code",
   "execution_count": 7,
   "id": "ff747e2a-525c-4eee-ae8a-a4fbc19f0eac",
   "metadata": {},
   "outputs": [],
   "source": [
    "# 3. Handle outliers\n",
    "# Calculate z-scores for numerical columns\n",
    "z_scores = log_data_df.select_dtypes(include='number').apply(zscore)\n",
    "\n",
    "# Compute row-wise sum of z-scores\n",
    "z_scores['total_z_score'] = z_scores.abs().sum(axis=1)\n",
    "\n",
    "# Set a threshold for outliers (e.g., z-score greater than 3)\n",
    "threshold = 3\n",
    "outliers = log_data_df[z_scores['total_z_score'] > threshold]\n",
    "\n",
    "# Remove outliers\n",
    "clean_data = log_data_df[~log_data_df.index.isin(outliers.index)]"
   ]
  },
  {
   "cell_type": "code",
   "execution_count": 8,
   "id": "06bcb6ce-7361-4dd6-823d-ab2d6f62943e",
   "metadata": {},
   "outputs": [
    {
     "name": "stderr",
     "output_type": "stream",
     "text": [
      "C:\\Users\\FBDA20-015\\AppData\\Local\\Temp\\ipykernel_12364\\3392379520.py:3: SettingWithCopyWarning: \n",
      "A value is trying to be set on a copy of a slice from a DataFrame.\n",
      "Try using .loc[row_indexer,col_indexer] = value instead\n",
      "\n",
      "See the caveats in the documentation: https://pandas.pydata.org/pandas-docs/stable/user_guide/indexing.html#returning-a-view-versus-a-copy\n",
      "  clean_data['Gender'] = clean_data['Gender'].astype('category')\n",
      "C:\\Users\\FBDA20-015\\AppData\\Local\\Temp\\ipykernel_12364\\3392379520.py:6: SettingWithCopyWarning: \n",
      "A value is trying to be set on a copy of a slice from a DataFrame.\n",
      "Try using .loc[row_indexer,col_indexer] = value instead\n",
      "\n",
      "See the caveats in the documentation: https://pandas.pydata.org/pandas-docs/stable/user_guide/indexing.html#returning-a-view-versus-a-copy\n",
      "  clean_data['Gender'] = clean_data['Gender'].cat.rename_categories({'Male': 'M', 'Female': 'F', 'Transgender': 'Trans'})\n"
     ]
    }
   ],
   "source": [
    "# 4. Handle inconsistencies\n",
    "# Convert 'Gender' column to categorical\n",
    "clean_data['Gender'] = clean_data['Gender'].astype('category')\n",
    "\n",
    "# Convert specified values in 'Gender' column\n",
    "clean_data['Gender'] = clean_data['Gender'].cat.rename_categories({'Male': 'M', 'Female': 'F', 'Transgender': 'Trans'})\n",
    "\n"
   ]
  },
  {
   "cell_type": "code",
   "execution_count": 9,
   "id": "49a89c13-ca94-4f60-ac4a-bee7cb8021f2",
   "metadata": {},
   "outputs": [],
   "source": [
    "# 5. Validate data\n",
    "# Check for duplicate rows\n",
    "duplicates = clean_data[clean_data.duplicated()]"
   ]
  },
  {
   "cell_type": "code",
   "execution_count": 10,
   "id": "0e6c88c2-9c14-483c-b13b-8587fb613b11",
   "metadata": {},
   "outputs": [
    {
     "name": "stdout",
     "output_type": "stream",
     "text": [
      "Columns: Index(['Time', 'Date', 'IP Address', 'Sport Viewed', 'Country', 'Continent',\n",
      "       'Gender', 'Age', 'Season', 'Session Duration', 'Engagement Time',\n",
      "       'Request', 'Rating', 'Feedback', 'Month'],\n",
      "      dtype='object')\n"
     ]
    }
   ],
   "source": [
    "# Display columns\n",
    "print(\"Columns:\", clean_data.columns)"
   ]
  },
  {
   "cell_type": "code",
   "execution_count": 11,
   "id": "7460ba2b-19dd-4c97-a5ff-8ad60c38a8d5",
   "metadata": {},
   "outputs": [],
   "source": [
    "# Perform feature extraction\n",
    "selected_features = clean_data[['Date','IP Address', 'Sport Viewed', 'Country', 'Continent','Gender', 'Age', 'Season', 'Session Duration', 'Engagement Time','Request', 'Rating',  'Month']]\n"
   ]
  },
  {
   "cell_type": "code",
   "execution_count": 12,
   "id": "67cf1fe7-44cc-4f5a-b6c1-34d1ed3c3fa2",
   "metadata": {},
   "outputs": [],
   "source": [
    "# Save the processed dataset\n",
    "selected_features.to_csv('processed_data.csv', index=False)\n"
   ]
  },
  {
   "cell_type": "code",
   "execution_count": null,
   "id": "6b39eece-1609-48db-9776-749ab5f519d2",
   "metadata": {},
   "outputs": [],
   "source": []
  },
  {
   "cell_type": "code",
   "execution_count": null,
   "id": "f05bdd9e-65ea-40a6-be3d-2e56b74da3fa",
   "metadata": {},
   "outputs": [],
   "source": []
  },
  {
   "cell_type": "code",
   "execution_count": null,
   "id": "ea0e9d02-414c-42a1-bd24-7e017570e816",
   "metadata": {},
   "outputs": [],
   "source": []
  }
 ],
 "metadata": {
  "kernelspec": {
   "display_name": "Python 3 (ipykernel)",
   "language": "python",
   "name": "python3"
  },
  "language_info": {
   "codemirror_mode": {
    "name": "ipython",
    "version": 3
   },
   "file_extension": ".py",
   "mimetype": "text/x-python",
   "name": "python",
   "nbconvert_exporter": "python",
   "pygments_lexer": "ipython3",
   "version": "3.11.7"
  }
 },
 "nbformat": 4,
 "nbformat_minor": 5
}
